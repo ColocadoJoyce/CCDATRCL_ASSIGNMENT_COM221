{
  "cells": [
    {
      "cell_type": "markdown",
      "metadata": {
        "id": "h2vFiYhGzZOg"
      },
      "source": [
        "# Exercise 1"
      ]
    },
    {
      "cell_type": "markdown",
      "source": [
        "## Class Initialization"
      ],
      "metadata": {
        "id": "sRm6kPQozcaU"
      }
    },
    {
      "cell_type": "code",
      "execution_count": 3,
      "metadata": {
        "id": "b1u4Dt9mzZOi"
      },
      "outputs": [],
      "source": [
        "class Node:\n",
        "    def __init__(self, data):\n",
        "        self.data = data\n",
        "        self.next = None"
      ]
    },
    {
      "cell_type": "code",
      "execution_count": 4,
      "metadata": {
        "id": "tigvHSaHzZOj"
      },
      "outputs": [],
      "source": [
        "class LinkedList:\n",
        "\n",
        "    def __init__(self):\n",
        "        self.head = None\n",
        "\n",
        "    def traverse(self, node):\n",
        "        while node:\n",
        "            print(node.data, end=\" -> \")\n",
        "            node = node.next"
      ]
    },
    {
      "cell_type": "code",
      "execution_count": 26,
      "metadata": {
        "id": "LIkQBioVzZOk"
      },
      "outputs": [],
      "source": [
        "class DoublyLinkedList:\n",
        "\n",
        "    def __init__(self):\n",
        "        self.head = None\n",
        "\n",
        "    def traverse(self, node):\n",
        "        while node:\n",
        "            print(node.data, end=\" -> \")\n",
        "            node = node.next\n",
        "\n",
        "    def traverse_in_reverse_order(self, node):\n",
        "        while node:\n",
        "            print(node.data, end=\" -> \")\n",
        "            node = node.prev"
      ]
    },
    {
      "cell_type": "code",
      "execution_count": 20,
      "metadata": {
        "id": "zlxNT5EozZOl"
      },
      "outputs": [],
      "source": [
        "class CircularLinkedList:\n",
        "\n",
        "    def __init__(self):\n",
        "        self.head = None\n",
        "\n",
        "    def traverse(self, node):\n",
        "\n",
        "        head = node\n",
        "\n",
        "        while node:\n",
        "            print(node.data, end=\" -> \")\n",
        "            node = node.next\n",
        "\n",
        "            # Break to prevent infinite loop\n",
        "            if node == head:\n",
        "                break\n",
        "\n",
        "    def traverse_in_reverse_order(self, node):\n",
        "\n",
        "        head = node\n",
        "\n",
        "        while node:\n",
        "            print(node.data, end=\" -> \")\n",
        "            node = node.prev\n",
        "\n",
        "            # Break to prevent infinite loop\n",
        "            if node == head:\n",
        "                break"
      ]
    },
    {
      "cell_type": "markdown",
      "metadata": {
        "id": "O68-Q1-bzZOl"
      },
      "source": [
        "#### 1. Create a Singly Linked list\n",
        "\n",
        "- Each node should contain your name and your seatmates in your row\n",
        "- Create at least 5 nodes\n",
        "- Traverse all nodes"
      ]
    },
    {
      "cell_type": "code",
      "source": [
        "linked_list = LinkedList()\n",
        "\n",
        "linked_list.head = Node(\"Joyce\")\n",
        "node_2 = Node(\"Christian\")\n",
        "node_3 = Node(\"Munoz\")\n",
        "node_4 = Node(\"Besa\")\n",
        "node_5 = Node(\"Brix\")"
      ],
      "metadata": {
        "id": "EStZlCEP9fE8"
      },
      "execution_count": null,
      "outputs": []
    },
    {
      "cell_type": "code",
      "execution_count": null,
      "metadata": {
        "id": "pTcx_OuPzZOl",
        "colab": {
          "base_uri": "https://localhost:8080/"
        },
        "outputId": "e690bdcc-7421-40f5-88d6-05674c4840df"
      },
      "outputs": [
        {
          "output_type": "stream",
          "name": "stdout",
          "text": [
            "Joyce -> Christian -> Munoz -> Besa -> Brix -> "
          ]
        }
      ],
      "source": [
        "linked_list.head.next = node_2\n",
        "node_2.next = node_3\n",
        "node_3.next = node_4\n",
        "node_4.next = node_5\n",
        "\n",
        "linked_list.traverse(linked_list.head)"
      ]
    },
    {
      "cell_type": "markdown",
      "metadata": {
        "id": "IFgwbdw_zZOm"
      },
      "source": [
        "#### 2. Create a Doubly Linked list\n",
        "\n",
        "- Each node should contain your name and your seatmates in your row\n",
        "- Create at least 5 nodes\n",
        "- Traverse all nodes"
      ]
    },
    {
      "cell_type": "code",
      "execution_count": 27,
      "metadata": {
        "id": "8kQD2A_QzZOm"
      },
      "outputs": [],
      "source": [
        "doubly_linked_list = DoublyLinkedList()"
      ]
    },
    {
      "cell_type": "code",
      "source": [
        "doubly_linked_list.head = Node(\"Joyce\")\n",
        "node_2 = Node(\"Christian\")\n",
        "node_3 = Node(\"Munoz\")\n",
        "node_4 = Node(\"Besa\")\n",
        "node_5 = Node(\"Brix\")"
      ],
      "metadata": {
        "id": "VcTlxJud-wZa"
      },
      "execution_count": 28,
      "outputs": []
    },
    {
      "cell_type": "code",
      "source": [
        "doubly_linked_list.head.prev = None\n",
        "doubly_linked_list.head.next = node_2\n",
        "\n",
        "node_2.prev = doubly_linked_list.head\n",
        "node_2.next = node_3\n",
        "\n",
        "node_3.prev = node_2\n",
        "node_3.next = node_4\n",
        "\n",
        "node_4.prev = node_3\n",
        "node_4.next = node_5\n",
        "\n",
        "node_5.prev = node_4\n",
        "node_5.next = None\n",
        "\n"
      ],
      "metadata": {
        "id": "vvzsRFrN_SBT"
      },
      "execution_count": 29,
      "outputs": []
    },
    {
      "cell_type": "code",
      "source": [
        "# Print value of each node\n",
        "print(\"value of head is :\", doubly_linked_list.head.data)\n",
        "print(\"value of next to head is :\", doubly_linked_list.head.next.data)\n",
        "\n",
        "print(\"---\")\n",
        "\n",
        "print(\"value of node_2 is :\", node_2.data)\n",
        "print(\"value of previous to node_2 is :\", node_2.prev.data)\n",
        "print(\"value of next to node_2 is :\", node_2.next.data)\n",
        "\n",
        "print(\"---\")\n",
        "\n",
        "print(\"value of node_3 is :\", node_3.data)\n",
        "print(\"value of previous to node_3 is :\", node_3.prev.data)\n",
        "print(\"value of next to node_3 is :\", node_3.next.data)\n",
        "\n",
        "print(\"---\")\n",
        "\n",
        "print(\"value of node_4 is :\", node_4.data)\n",
        "print(\"value of previous to node_4 is :\", node_4.prev.data)\n",
        "print(\"value of next to node_4 is :\", node_4.next.data)\n",
        "\n",
        "print(\"---\")\n",
        "\n",
        "print(\"value of node_5 is :\", node_5.data)\n",
        "print(\"value of previous to node_5 is :\", node_5.prev.data)\n",
        "\n",
        "print(\"---\")\n",
        "\n",
        "print(\"All elements in doubly linked list\")\n",
        "doubly_linked_list.traverse(doubly_linked_list.head)\n",
        "\n",
        "print(\"\\n---\")\n",
        "\n",
        "print(\"All elements in doubly linked list reversed\")\n",
        "doubly_linked_list.traverse_in_reverse_order(node_5)"
      ],
      "metadata": {
        "colab": {
          "base_uri": "https://localhost:8080/"
        },
        "id": "w9Wlr3scuogH",
        "outputId": "d0ebff06-d52c-4bda-9281-600770c2d9db"
      },
      "execution_count": 30,
      "outputs": [
        {
          "output_type": "stream",
          "name": "stdout",
          "text": [
            "value of head is : Joyce\n",
            "value of next to head is : Christian\n",
            "---\n",
            "value of node_2 is : Christian\n",
            "value of previous to node_2 is : Joyce\n",
            "value of next to node_2 is : Munoz\n",
            "---\n",
            "value of node_3 is : Munoz\n",
            "value of previous to node_3 is : Christian\n",
            "value of next to node_3 is : Besa\n",
            "---\n",
            "value of node_4 is : Besa\n",
            "value of previous to node_4 is : Munoz\n",
            "value of next to node_4 is : Brix\n",
            "---\n",
            "value of node_5 is : Brix\n",
            "value of previous to node_5 is : Besa\n",
            "---\n",
            "All elements in doubly linked list\n",
            "Joyce -> Christian -> Munoz -> Besa -> Brix -> ---\n",
            "All elements in doubly linked list reversed\n",
            "Brix -> Besa -> Munoz -> Christian -> Joyce -> "
          ]
        }
      ]
    },
    {
      "cell_type": "markdown",
      "metadata": {
        "id": "rtApbsCjzZOm"
      },
      "source": [
        "#### 3. Create a Circular Linked list\n",
        "\n",
        "- Each node should contain your name and your seatmates in your row\n",
        "- Create at least 5 nodes\n",
        "- Traverse all nodes"
      ]
    },
    {
      "cell_type": "code",
      "execution_count": 21,
      "metadata": {
        "id": "Gp1Oiq0jzZOn"
      },
      "outputs": [],
      "source": [
        "circular_linked_list = CircularLinkedList()"
      ]
    },
    {
      "cell_type": "code",
      "source": [
        "circular_linked_list.head = Node(\"Joyce\")\n",
        "node_2 = Node(\"Christian\")\n",
        "node_3 = Node(\"Munoz\")\n",
        "node_4 = Node(\"Besa\")\n",
        "node_5 = Node(\"Brix\")"
      ],
      "metadata": {
        "id": "YKEX19L0x_B2"
      },
      "execution_count": 22,
      "outputs": []
    },
    {
      "cell_type": "code",
      "source": [
        "circular_linked_list.head.prev = node_5\n",
        "circular_linked_list.head.next = node_2\n",
        "\n",
        "node_2.prev = circular_linked_list.head\n",
        "node_2.next = node_3\n",
        "\n",
        "node_3.prev = node_2\n",
        "node_3.next = node_4\n",
        "\n",
        "node_4.prev = node_3\n",
        "node_4.next = node_5\n",
        "\n",
        "node_5.prev = node_4\n",
        "node_5.next = circular_linked_list.head"
      ],
      "metadata": {
        "id": "upz1AJsmx_3A"
      },
      "execution_count": 23,
      "outputs": []
    },
    {
      "cell_type": "code",
      "source": [
        "# Print value of each node\n",
        "print(\"value of head is :\", circular_linked_list.head.data)\n",
        "print(\"value of previous to head is :\", circular_linked_list.head.prev.data)\n",
        "print(\"value of next to head is :\", circular_linked_list.head.next.data)\n",
        "\n",
        "print(\"---\")\n",
        "\n",
        "print(\"value of node_2 is :\", node_2.data)\n",
        "print(\"value of previous to node_2 is :\", node_2.prev.data)\n",
        "print(\"value of next to node_2 is :\", node_2.next.data)\n",
        "\n",
        "print(\"---\")\n",
        "\n",
        "print(\"value of node_3 is :\", node_3.data)\n",
        "print(\"value of previous to node_3 is :\", node_3.prev.data)\n",
        "print(\"value of next to node_3 is :\", node_3.next.data)\n",
        "\n",
        "print(\"---\")\n",
        "\n",
        "print(\"value of node_4 is :\", node_4.data)\n",
        "print(\"value of previous to node_4 is :\", node_4.prev.data)\n",
        "print(\"value of next to node_4 is :\", node_4.next.data)\n",
        "\n",
        "print(\"---\")\n",
        "\n",
        "print(\"value of node_5 is :\", node_5.data)\n",
        "print(\"value of previous to node_5 is :\", node_5.prev.data)\n",
        "print(\"value of next to node_5 is :\", node_5.next.data)\n",
        "\n",
        "print(\"---\")\n",
        "\n",
        "print(\"All elements in circular linked list\")\n",
        "circular_linked_list.traverse(circular_linked_list.head)\n",
        "\n",
        "print(\"\\n---\")\n",
        "\n",
        "print(\"All elements in circular linked list in reverse\")\n",
        "circular_linked_list.traverse_in_reverse_order(node_5)"
      ],
      "metadata": {
        "colab": {
          "base_uri": "https://localhost:8080/"
        },
        "id": "d_3WUwjayAy_",
        "outputId": "8975b28b-29f7-4289-ef38-3140c33d29ce"
      },
      "execution_count": 24,
      "outputs": [
        {
          "output_type": "stream",
          "name": "stdout",
          "text": [
            "value of head is : Joyce\n",
            "value of previous to head is : Brix\n",
            "value of next to head is : Christian\n",
            "---\n",
            "value of node_2 is : Christian\n",
            "value of previous to node_2 is : Joyce\n",
            "value of next to node_2 is : Munoz\n",
            "---\n",
            "value of node_3 is : Munoz\n",
            "value of previous to node_3 is : Christian\n",
            "value of next to node_3 is : Besa\n",
            "---\n",
            "value of node_4 is : Besa\n",
            "value of previous to node_4 is : Munoz\n",
            "value of next to node_4 is : Brix\n",
            "---\n",
            "value of node_5 is : Brix\n",
            "value of previous to node_5 is : Besa\n",
            "value of next to node_5 is : Joyce\n",
            "---\n",
            "All elements in circular linked list\n",
            "Joyce -> Christian -> Munoz -> Besa -> Brix -> Brix -> Besa -> Munoz -> Christian -> Joyce -> "
          ]
        }
      ]
    }
  ],
  "metadata": {
    "kernelspec": {
      "display_name": "Python 3",
      "language": "python",
      "name": "python3"
    },
    "language_info": {
      "name": "python",
      "version": "3.11.4"
    },
    "orig_nbformat": 4,
    "colab": {
      "provenance": []
    }
  },
  "nbformat": 4,
  "nbformat_minor": 0
}