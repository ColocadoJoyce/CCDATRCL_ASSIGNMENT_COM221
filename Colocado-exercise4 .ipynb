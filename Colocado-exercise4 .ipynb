{
 "cells": [
  {
   "cell_type": "markdown",
   "metadata": {
    "id": "fCO3VeNzvGDc"
   },
   "source": [
    "# Exercise 4"
   ]
  },
  {
   "cell_type": "markdown",
   "metadata": {
    "id": "UCFGr2qPKONg"
   },
   "source": [
    "#### Pre-defined sorting algorithms"
   ]
  },
  {
   "cell_type": "code",
   "execution_count": 1,
   "metadata": {
    "id": "dXWXOLWtKONg",
    "ExecuteTime": {
     "end_time": "2023-09-29T00:58:00.103138900Z",
     "start_time": "2023-09-29T00:58:00.069153Z"
    }
   },
   "outputs": [],
   "source": [
    "def mergeSort(array):\n",
    "    if len(array) > 1:\n",
    "\n",
    "        #  r is the point where the array is divided into two subarrays\n",
    "        r = len(array) // 2\n",
    "        L = array[:r]\n",
    "        M = array[r:]\n",
    "\n",
    "        # Sort the two halves\n",
    "        mergeSort(L)\n",
    "        mergeSort(M)\n",
    "\n",
    "        i = j = k = 0\n",
    "\n",
    "        # Until we reach either end of either L or M, pick larger among\n",
    "        # elements L and M and place them in the correct position at A[p..r]\n",
    "        while i < len(L) and j < len(M):\n",
    "            if L[i] < M[j]:\n",
    "                array[k] = L[i]\n",
    "                i += 1\n",
    "            else:\n",
    "                array[k] = M[j]\n",
    "                j += 1\n",
    "            k += 1\n",
    "\n",
    "        # When we run out of elements in either L or M,\n",
    "        # pick up the remaining elements and put in A[p..r]\n",
    "        while i < len(L):\n",
    "            array[k] = L[i]\n",
    "            i += 1\n",
    "            k += 1\n",
    "\n",
    "        while j < len(M):\n",
    "            array[k] = M[j]\n",
    "            j += 1\n",
    "            k += 1\n",
    "\n",
    "\n",
    "# Print the array\n",
    "def printList(array):\n",
    "    for i in range(len(array)):\n",
    "        print(array[i], end=\" \")\n",
    "    print()"
   ]
  },
  {
   "cell_type": "code",
   "execution_count": 2,
   "metadata": {
    "id": "OB-JMVxvKONi",
    "ExecuteTime": {
     "end_time": "2023-09-29T00:58:00.104138700Z",
     "start_time": "2023-09-29T00:58:00.081386100Z"
    }
   },
   "outputs": [],
   "source": [
    "def countingSort(array):\n",
    "    size = len(array)\n",
    "    output = [0] * size\n",
    "\n",
    "    # Initialize count array\n",
    "    count = [0] * 10\n",
    "\n",
    "    # Store the count of each elements in count array\n",
    "    for i in range(0, size):\n",
    "        count[array[i]] += 1\n",
    "\n",
    "    # Store the cummulative count\n",
    "    for i in range(1, 10):\n",
    "        count[i] += count[i - 1]\n",
    "\n",
    "    # Find the index of each element of the original array in count array\n",
    "    # place the elements in output array\n",
    "    i = size - 1\n",
    "    while i >= 0:\n",
    "        output[count[array[i]] - 1] = array[i]\n",
    "        count[array[i]] -= 1\n",
    "        i -= 1\n",
    "\n",
    "    # Copy the sorted elements into original array\n",
    "    for i in range(0, size):\n",
    "        array[i] = output[i]"
   ]
  },
  {
   "cell_type": "code",
   "execution_count": 3,
   "metadata": {
    "id": "VXaukk4_KONj",
    "ExecuteTime": {
     "end_time": "2023-09-29T00:58:00.132445300Z",
     "start_time": "2023-09-29T00:58:00.096295200Z"
    }
   },
   "outputs": [],
   "source": [
    "def insertionSort(array):\n",
    "    for step in range(1, len(array)):\n",
    "        key = array[step]\n",
    "        j = step - 1\n",
    "\n",
    "        # Compare key with each element on the left of it until an element smaller than it is found\n",
    "        # For descending order, change key<array[j] to key>array[j].\n",
    "        while j >= 0 and key < array[j]:\n",
    "            array[j + 1] = array[j]\n",
    "            j = j - 1\n",
    "\n",
    "        # Place key at after the element just smaller than it.\n",
    "        array[j + 1] = key"
   ]
  },
  {
   "cell_type": "code",
   "execution_count": 4,
   "metadata": {
    "id": "b4yWHH1nKONj",
    "ExecuteTime": {
     "end_time": "2023-09-29T00:58:00.135450300Z",
     "start_time": "2023-09-29T00:58:00.111721800Z"
    }
   },
   "outputs": [],
   "source": [
    "# Bubble sort in Python\n",
    "def bubbleSort(array):\n",
    "    # loop to access each array element\n",
    "    for i in range(len(array)):\n",
    "\n",
    "        # loop to compare array elements\n",
    "        for j in range(0, len(array) - i - 1):\n",
    "\n",
    "            # compare two adjacent elements\n",
    "            # change > to < to sort in descending order\n",
    "            if array[j] > array[j + 1]:\n",
    "                # swapping elements if elements\n",
    "                # are not in the intended order\n",
    "                temp = array[j]\n",
    "                array[j] = array[j + 1]\n",
    "                array[j + 1] = temp"
   ]
  },
  {
   "cell_type": "markdown",
   "metadata": {
    "id": "6j9PZVsyvGDe"
   },
   "source": [
    "#### 1. Sort your **student number** in **ascending order**\n",
    "\n",
    "Example:\n",
    "\n",
    "**Input: 2022123456**\n",
    "\n",
    "**Output: 0122223456**"
   ]
  },
  {
   "cell_type": "code",
   "execution_count": 12,
   "metadata": {
    "id": "UuNMRCm3vGDe",
    "ExecuteTime": {
     "end_time": "2023-09-29T01:01:51.420654700Z",
     "start_time": "2023-09-29T01:01:51.390338500Z"
    }
   },
   "outputs": [
    {
     "name": "stdout",
     "output_type": "stream",
     "text": [
      "[0, 0, 0, 2, 2, 2, 2, 2, 3, 3]\n",
      "[0, 0, 0, 2, 2, 2, 2, 2, 3, 3]\n",
      "[0, 0, 0, 2, 2, 2, 2, 2, 3, 3]\n",
      "[0, 0, 0, 2, 2, 2, 2, 2, 3, 3]\n"
     ]
    }
   ],
   "source": [
    "student_number = [2, 0, 2, 2, 2, 0, 0, 2, 3, 3]\n",
    "\n",
    "# Using merge sort\n",
    "arr = student_number.copy()\n",
    "mergeSort(arr)\n",
    "print(arr)\n",
    "\n",
    "# Using counting sort\n",
    "arr = student_number.copy()\n",
    "countingSort(arr)\n",
    "print(arr)\n",
    "\n",
    "# Using insertion sort\n",
    "arr = student_number.copy()\n",
    "insertionSort(arr)\n",
    "print(arr)\n",
    "\n",
    "# Using bubble sort\n",
    "arr = student_number.copy()\n",
    "bubbleSort(arr)\n",
    "print(arr)"
   ]
  },
  {
   "cell_type": "markdown",
   "metadata": {
    "id": "felukBjnvGDf"
   },
   "source": [
    "#### 2. Sort the **dates** in **ascending order**.\n",
    "\n",
    "dates = [\"12-25-2023\", birthday, \"01-01-2023\"]\n",
    "\n",
    "Enter your birthday in the birthday variable."
   ]
  },
  {
   "cell_type": "code",
   "execution_count": 17,
   "metadata": {
    "id": "f8xQ3N0jvGDg",
    "ExecuteTime": {
     "end_time": "2023-09-29T01:35:20.330630600Z",
     "start_time": "2023-09-29T01:35:20.294478800Z"
    }
   },
   "outputs": [
    {
     "name": "stdout",
     "output_type": "stream",
     "text": [
      "['09-04-2003', '01-01-2023', '12-25-2023']\n"
     ]
    }
   ],
   "source": [
    "def sort_dates(dates):\n",
    "    # We split the dates and format them to be in the form of yyyymmdd\n",
    "    split_dates = [date.split(\"-\") for date in dates]\n",
    "    reordered_dates = [f\"{date[2]}{date[0]}{date[1]}\" for date in split_dates]\n",
    "    mergeSort(reordered_dates)\n",
    "\n",
    "    # We format the dates back to the form of mm-dd-yyyy\n",
    "    return [f\"{date[4:6]}-{date[6:]}-{date[:4]}\" for date in reordered_dates]\n",
    "\n",
    "\n",
    "# Your birthday should be in mm-dd-yyyy\n",
    "birthday = \"09-04-2003\"\n",
    "dates = [\"12-25-2023\", birthday, \"01-01-2023\"]\n",
    "\n",
    "print(sort_dates(dates))"
   ]
  },
  {
   "cell_type": "markdown",
   "metadata": {
    "id": "IFDPeGZxvGDg"
   },
   "source": [
    "#### 3. Count the **total number of swaps** to sort the list below using **Bubble Sort**\n",
    "\n",
    "| 3 | 2 | 5 | 1 | 4 |\n",
    "|---|---|---|---|---|"
   ]
  },
  {
   "cell_type": "code",
   "execution_count": 22,
   "metadata": {
    "id": "b1ppwLcevGDg",
    "outputId": "b38a47a6-764e-48c4-9612-2278fb72422a",
    "ExecuteTime": {
     "end_time": "2023-09-29T01:39:10.821833600Z",
     "start_time": "2023-09-29T01:39:10.795059900Z"
    }
   },
   "outputs": [
    {
     "name": "stdout",
     "output_type": "stream",
     "text": [
      "Swap 1: [3, 2, 5, 1, 4]\n",
      "Swap 2: [2, 3, 5, 1, 4]\n",
      "Swap 3: [2, 3, 1, 5, 4]\n",
      "Swap 4: [2, 3, 1, 4, 5]\n",
      "Swap 5: [2, 1, 3, 4, 5]\n",
      "[1, 2, 3, 4, 5]\n",
      "Total of 5 swaps\n"
     ]
    }
   ],
   "source": [
    "def bubbleSort(array):\n",
    "    swaps = 0\n",
    "    # loop to access each array element\n",
    "    for i in range(len(array)):\n",
    "\n",
    "        # loop to compare array elements\n",
    "        for j in range(0, len(array) - i - 1):\n",
    "\n",
    "            # compare two adjacent elements\n",
    "            # change > to < to sort in descending order\n",
    "            if array[j] > array[j + 1]:\n",
    "                # swapping elements if elements\n",
    "                # are not in the intended order\n",
    "                swaps += 1\n",
    "                print(f\"Swap {swaps}: {array}\")\n",
    "                temp = array[j]\n",
    "                array[j] = array[j + 1]\n",
    "                array[j + 1] = temp\n",
    "\n",
    "    return swaps\n",
    "\n",
    "\n",
    "array = [3, 2, 5, 1, 4]\n",
    "swaps = bubbleSort(array)\n",
    "\n",
    "print(array)\n",
    "print(f\"Total of {swaps} swaps\")"
   ]
  },
  {
   "cell_type": "markdown",
   "metadata": {
    "id": "iO2UusQWvGDi"
   },
   "source": [
    "#### 4. Count the **total number of steps** to sort the list below using **Insertion Sort**\n",
    "\n",
    "\n",
    "| 6 | 2 | 5 | 7 | 4 | 1 | 8 | 9 | 3 |\n",
    "|---|---|---|---|---|---|---|---|---|"
   ]
  },
  {
   "cell_type": "code",
   "execution_count": 25,
   "metadata": {
    "id": "vq1PYEjmvGDi",
    "outputId": "144516ac-ce19-470c-a41e-bd1b04da5dbe",
    "ExecuteTime": {
     "end_time": "2023-09-29T01:44:45.089209400Z",
     "start_time": "2023-09-29T01:44:45.065133400Z"
    }
   },
   "outputs": [
    {
     "name": "stdout",
     "output_type": "stream",
     "text": [
      "Step 1: [2, 6, 5, 7, 4, 1, 8, 9, 3]\n",
      "Step 2: [2, 5, 6, 7, 4, 1, 8, 9, 3]\n",
      "Step 3: [2, 5, 6, 7, 4, 1, 8, 9, 3]\n",
      "Step 4: [2, 4, 5, 6, 7, 1, 8, 9, 3]\n",
      "Step 5: [1, 2, 4, 5, 6, 7, 8, 9, 3]\n",
      "Step 6: [1, 2, 4, 5, 6, 7, 8, 9, 3]\n",
      "Step 7: [1, 2, 4, 5, 6, 7, 8, 9, 3]\n",
      "Step 8: [1, 2, 3, 4, 5, 6, 7, 8, 9]\n",
      "[1, 2, 3, 4, 5, 6, 7, 8, 9]\n",
      "Total of 8 steps\n"
     ]
    }
   ],
   "source": [
    "def insertionSort(array):\n",
    "    steps = 0\n",
    "    for step in range(1, len(array)):\n",
    "        steps += 1\n",
    "        key = array[step]\n",
    "        j = step - 1\n",
    "\n",
    "        # Compare key with each element on the left of it until an element smaller than it is found\n",
    "        # For descending order, change key<array[j] to key>array[j].\n",
    "        while j >= 0 and key < array[j]:\n",
    "            array[j + 1] = array[j]\n",
    "            j = j - 1\n",
    "\n",
    "        # Place key at after the element just smaller than it.\n",
    "        array[j + 1] = key\n",
    "        print(f\"Step {steps}: {array}\")\n",
    "\n",
    "    return steps\n",
    "\n",
    "\n",
    "array = [6, 2, 5, 7, 4, 1, 8, 9, 3]\n",
    "steps = insertionSort(array)\n",
    "\n",
    "print(array)\n",
    "print(f\"Total of {steps} steps\")"
   ]
  },
  {
   "cell_type": "markdown",
   "metadata": {
    "id": "jpfNCCdbvGDj"
   },
   "source": [
    "#### 5. Given the list below:\n",
    "\n",
    "\n",
    "| 7 | 5 | 4 | 3 | 2 | 5 | 1 | 8 |\n",
    "|---|---|---|---|---|---|---|---|\n",
    "\n",
    "Using **merge sort** and **counting sort**\n",
    "\n",
    "Determine which sorting algorithm is faster by counting the total number of steps for each algorithm\n"
   ]
  },
  {
   "cell_type": "code",
   "execution_count": 29,
   "metadata": {
    "id": "2YVK17cSvGDj",
    "outputId": "31998f12-1678-4815-e6fe-d37781b0f0cc",
    "ExecuteTime": {
     "end_time": "2023-09-29T01:48:48.304664500Z",
     "start_time": "2023-09-29T01:48:48.283715600Z"
    }
   },
   "outputs": [
    {
     "name": "stdout",
     "output_type": "stream",
     "text": [
      "Merge sort: 24 steps\n",
      "Counting sort: 8 steps\n",
      "Counting sort is faster\n"
     ]
    }
   ],
   "source": [
    "def mergeSort(array):\n",
    "    steps = 0\n",
    "    if len(array) > 1:\n",
    "\n",
    "        #  r is the point where the array is divided into two subarrays\n",
    "        r = len(array) // 2\n",
    "        L = array[:r]\n",
    "        M = array[r:]\n",
    "\n",
    "        # Sort the two halves\n",
    "        steps += mergeSort(L)\n",
    "        steps += mergeSort(M)\n",
    "\n",
    "        i = j = k = 0\n",
    "\n",
    "        # Until we reach either end of either L or M, pick larger among\n",
    "        # elements L and M and place them in the correct position at A[p..r]\n",
    "        while i < len(L) and j < len(M):\n",
    "            steps += 1\n",
    "            if L[i] < M[j]:\n",
    "                array[k] = L[i]\n",
    "                i += 1\n",
    "            else:\n",
    "                array[k] = M[j]\n",
    "                j += 1\n",
    "            k += 1\n",
    "\n",
    "        # When we run out of elements in either L or M,\n",
    "        # pick up the remaining elements and put in A[p..r]\n",
    "        while i < len(L):\n",
    "            steps += 1\n",
    "            array[k] = L[i]\n",
    "            i += 1\n",
    "            k += 1\n",
    "\n",
    "        while j < len(M):\n",
    "            steps += 1\n",
    "            array[k] = M[j]\n",
    "            j += 1\n",
    "            k += 1\n",
    "\n",
    "    return steps\n",
    "\n",
    "\n",
    "def countingSort(array):\n",
    "    steps = 0\n",
    "    size = len(array)\n",
    "    output = [0] * size\n",
    "\n",
    "    # Initialize count array\n",
    "    count = [0] * 10\n",
    "\n",
    "    # Store the count of each element in count array\n",
    "    for i in range(0, size):\n",
    "        count[array[i]] += 1\n",
    "\n",
    "    # Store the cumulative count\n",
    "    for i in range(1, 10):\n",
    "        count[i] += count[i - 1]\n",
    "\n",
    "    # Find the index of each element of the original array in count array\n",
    "    # place the elements in output array\n",
    "    i = size - 1\n",
    "    while i >= 0:\n",
    "        steps += 1\n",
    "        output[count[array[i]] - 1] = array[i]\n",
    "        count[array[i]] -= 1\n",
    "        i -= 1\n",
    "\n",
    "    # Copy the sorted elements into original array\n",
    "    for i in range(0, size):\n",
    "        array[i] = output[i]\n",
    "\n",
    "    return steps\n",
    "\n",
    "\n",
    "array = [7, 5, 4, 3, 2, 5, 1, 8]\n",
    "\n",
    "merge_sort_num_steps = mergeSort(array.copy())\n",
    "counting_sort_num_steps = countingSort(array.copy())\n",
    "\n",
    "print(f\"Merge sort: {merge_sort_num_steps} steps\")\n",
    "print(f\"Counting sort: {counting_sort_num_steps} steps\")\n",
    "\n",
    "if merge_sort_num_steps < counting_sort_num_steps:\n",
    "    print(\"Merge sort is faster\")\n",
    "else:\n",
    "    print(\"Counting sort is faster\")"
   ]
  }
 ],
 "metadata": {
  "colab": {
   "provenance": []
  },
  "kernelspec": {
   "display_name": "Python 3",
   "language": "python",
   "name": "python3"
  },
  "language_info": {
   "codemirror_mode": {
    "name": "ipython",
    "version": 3
   },
   "file_extension": ".py",
   "mimetype": "text/x-python",
   "name": "python",
   "nbconvert_exporter": "python",
   "pygments_lexer": "ipython3",
   "version": "3.11.4"
  },
  "orig_nbformat": 4
 },
 "nbformat": 4,
 "nbformat_minor": 0
}
