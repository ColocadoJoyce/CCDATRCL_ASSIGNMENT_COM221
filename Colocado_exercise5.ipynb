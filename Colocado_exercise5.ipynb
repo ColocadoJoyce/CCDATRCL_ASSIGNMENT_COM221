{
  "cells": [
    {
      "cell_type": "markdown",
      "metadata": {
        "id": "juxBcOlLLn8k"
      },
      "source": [
        "# Exercise 5"
      ]
    },
    {
      "cell_type": "markdown",
      "metadata": {
        "id": "Joe0At9CLn8n"
      },
      "source": [
        "#### 1. Create a dictionary of your 10 favorite songs."
      ]
    },
    {
      "cell_type": "markdown",
      "metadata": {
        "id": "4Nxx7GKdLn8n"
      },
      "source": [
        "Example:\n",
        "\n",
        "|KEY|VALUE|\n",
        "|---|---|\n",
        "|001|My Love|\n",
        "|002|Like a rose|"
      ]
    },
    {
      "cell_type": "code",
      "execution_count": 10,
      "metadata": {
        "id": "P0h4shiPLn8o"
      },
      "outputs": [],
      "source": [
        "favorite_songs = {\n",
        "    '001': 'Apocalypse',\n",
        "    '002': 'Radio',\n",
        "    '003': 'Cinnamon Girl',\n",
        "    '004': 'Summertime Sadness',\n",
        "    '005': 'Sofia',\n",
        "    '006': 'Myth',\n",
        "    '007': 'Space Song',\n",
        "    '008': 'Take Care',\n",
        "    '009': 'Funeral',\n",
        "    '010': 'Those Eyes'\n",
        "}"
      ]
    },
    {
      "cell_type": "markdown",
      "metadata": {
        "id": "58R5t7xDLn8p"
      },
      "source": [
        "#### 2. Loop through the dictionary by its **key** and **value**"
      ]
    },
    {
      "cell_type": "code",
      "execution_count": 11,
      "metadata": {
        "id": "aFIabcqWLn8p",
        "colab": {
          "base_uri": "https://localhost:8080/"
        },
        "outputId": "100257b4-61a2-40bf-bc3e-21d82ef97ee6"
      },
      "outputs": [
        {
          "output_type": "stream",
          "name": "stdout",
          "text": [
            "Key: 001, Value: Apocalypse\n",
            "Key: 002, Value: Radio\n",
            "Key: 003, Value: Cinnamon Girl\n",
            "Key: 004, Value: Summertime Sadness\n",
            "Key: 005, Value: Sofia\n",
            "Key: 006, Value: Myth\n",
            "Key: 007, Value: Space Song\n",
            "Key: 008, Value: Take Care\n",
            "Key: 009, Value: Funeral\n",
            "Key: 010, Value: Those Eyes\n"
          ]
        }
      ],
      "source": [
        "favorite_songs = {\n",
        "    '001': 'Apocalypse',\n",
        "    '002': 'Radio',\n",
        "    '003': 'Cinnamon Girl',\n",
        "    '004': 'Summertime Sadness',\n",
        "    '005': 'Sofia',\n",
        "    '006': 'Myth',\n",
        "    '007': 'Space Song',\n",
        "    '008': 'Take Care',\n",
        "    '009': 'Funeral',\n",
        "    '010': 'Those Eyes'\n",
        "}\n",
        "\n",
        "\n",
        "for key, value in favorite_songs.items():\n",
        "    print(f\"Key: {key}, Value: {value}\")"
      ]
    },
    {
      "cell_type": "markdown",
      "metadata": {
        "id": "oED8YH1QLn8p"
      },
      "source": [
        "#### 3. Add one additional song"
      ]
    },
    {
      "cell_type": "code",
      "execution_count": 17,
      "metadata": {
        "id": "M1Ud6k0zLn8p",
        "colab": {
          "base_uri": "https://localhost:8080/"
        },
        "outputId": "9efde88b-530d-4cb1-8055-7c3149fb03d0"
      },
      "outputs": [
        {
          "output_type": "stream",
          "name": "stdout",
          "text": [
            "Key: 001, Value: Apocalypse\n",
            "Key: 002, Value: Radio\n",
            "Key: 003, Value: Cinnamon Girl\n",
            "Key: 004, Value: Summertime Sadness\n",
            "Key: 005, Value: Sofia\n",
            "Key: 006, Value: Myth\n",
            "Key: 007, Value: Space Song\n",
            "Key: 008, Value: Take Care\n",
            "Key: 009, Value: Funeral\n",
            "Key: 010, Value: Those Eyes\n",
            "Key: 011, Value: All I Want\n"
          ]
        }
      ],
      "source": [
        "favorite_songs = {\n",
        "    '001': 'Apocalypse',\n",
        "    '002': 'Radio',\n",
        "    '003': 'Cinnamon Girl',\n",
        "    '004': 'Summertime Sadness',\n",
        "    '005': 'Sofia',\n",
        "    '006': 'Myth',\n",
        "    '007': 'Space Song',\n",
        "    '008': 'Take Care',\n",
        "    '009': 'Funeral',\n",
        "    '010': 'Those Eyes',\n",
        "    '011': 'All I Want'  #new song added\n",
        "}\n",
        "\n",
        "for key, value in favorite_songs.items():\n",
        "    print(f\"Key: {key}, Value: {value}\")"
      ]
    },
    {
      "cell_type": "markdown",
      "metadata": {
        "id": "fOXYtpc2Ln8q"
      },
      "source": [
        "#### 4. Remove one song"
      ]
    },
    {
      "cell_type": "code",
      "execution_count": 15,
      "metadata": {
        "id": "Sch6ZeSLLn8q",
        "colab": {
          "base_uri": "https://localhost:8080/"
        },
        "outputId": "e1502768-8762-4621-d223-e7bb3099b3c3"
      },
      "outputs": [
        {
          "output_type": "stream",
          "name": "stdout",
          "text": [
            "Key: 001, Value: Apocalypse\n",
            "Key: 002, Value: Radio\n",
            "Key: 003, Value: Cinnamon Girl\n",
            "Key: 004, Value: Summertime Sadness\n",
            "Key: 005, Value: Sofia\n",
            "Key: 006, Value: Myth\n",
            "Key: 007, Value: Space Song\n",
            "Key: 008, Value: Take Care\n",
            "Key: 009, Value: Funeral\n",
            "Key: 011, Value: All I Want\n"
          ]
        }
      ],
      "source": [
        "favorite_songs = {\n",
        "    '001': 'Apocalypse',\n",
        "    '002': 'Radio',\n",
        "    '003': 'Cinnamon Girl',\n",
        "    '004': 'Summertime Sadness',\n",
        "    '005': 'Sofia',\n",
        "    '006': 'Myth',\n",
        "    '007': 'Space Song',\n",
        "    '008': 'Take Care',\n",
        "    '009': 'Funeral',\n",
        "    '010': 'Those Eyes',\n",
        "    '011': 'All I Want'\n",
        "}\n",
        "\n",
        "# song removed\n",
        "removed_song = favorite_songs.pop('010')\n",
        "\n",
        "for key, value in favorite_songs.items():\n",
        "    print(f\"Key: {key}, Value: {value}\")\n"
      ]
    },
    {
      "cell_type": "markdown",
      "metadata": {
        "id": "AXhfdfYpLn8q"
      },
      "source": [
        "#### 5. Create a nested dictionary of your 10 favorite songs with 5 genres. Display all of the items of the nested dictionary\n",
        "\n",
        "- Each nested dictionary's key should be the genre of the song\n",
        "- Put each song in their respective genre"
      ]
    },
    {
      "cell_type": "markdown",
      "metadata": {
        "id": "CYn5R6gHLn8q"
      },
      "source": [
        "Example:\n",
        "\n",
        "\n",
        "|KEY|VALUE|\n",
        "|---|---|\n",
        "|Pop|{001, Baby}|\n",
        "|Rock|{001, Enter Sandman}|"
      ]
    },
    {
      "cell_type": "code",
      "execution_count": 18,
      "metadata": {
        "id": "2isBwACuLn8r"
      },
      "outputs": [],
      "source": [
        "favorite_songs = {\n",
        "    'Apocalypse': {'genre': 'Rock'},\n",
        "    'Radio': {'genre': 'Alternative'},\n",
        "    'Cinnamon Girl': {'genre': 'Rock'},\n",
        "    'Summertime Sadness': {'genre': 'Pop'},\n",
        "    'Sofia': {'genre': 'Indie'},\n",
        "    'Myth': {'genre': 'Indie'},\n",
        "    'Space Song': {'genre': 'Dream Pop'},\n",
        "    'Take Care': {'genre': 'Hip-Hop'},\n",
        "    'Funeral': {'genre': 'Indie'},\n",
        "    'All I Want': {'genre': 'Alternative'}\n",
        "}"
      ]
    },
    {
      "cell_type": "markdown",
      "metadata": {
        "id": "H8vefbniLn8r"
      },
      "source": [
        "#### 6. Print the first song of the first genre"
      ]
    },
    {
      "cell_type": "code",
      "execution_count": 19,
      "metadata": {
        "id": "JT2aDqO2Ln8r",
        "colab": {
          "base_uri": "https://localhost:8080/"
        },
        "outputId": "9b09b1e7-a887-439f-c0c6-b00faebc76af"
      },
      "outputs": [
        {
          "output_type": "stream",
          "name": "stdout",
          "text": [
            "The first song of the first genre (Rock) is: Apocalypse\n"
          ]
        }
      ],
      "source": [
        "if favorite_songs:\n",
        "    first_genre = next(iter(favorite_songs.values()))['genre']\n",
        "\n",
        "    first_song_of_first_genre = next((song for song, details in favorite_songs.items() if details['genre'] == first_genre), None)\n",
        "\n",
        "    if first_song_of_first_genre:\n",
        "        print(f\"The first song of the first genre ({first_genre}) is: {first_song_of_first_genre}\")\n",
        "    else:\n",
        "        print(f\"No songs found in the first genre.\")\n",
        "else:\n",
        "    print(\"The dictionary is empty.\")"
      ]
    },
    {
      "cell_type": "markdown",
      "metadata": {
        "id": "aKXT0IapLn8r"
      },
      "source": [
        "#### 7. Print the first song of the last genre"
      ]
    },
    {
      "cell_type": "code",
      "execution_count": 20,
      "metadata": {
        "id": "X8eSFdG6Ln8r",
        "colab": {
          "base_uri": "https://localhost:8080/"
        },
        "outputId": "cbe2226b-18a2-4178-84e4-d36ffc2de747"
      },
      "outputs": [
        {
          "output_type": "stream",
          "name": "stdout",
          "text": [
            "The first song of the last genre (Alternative) is: Radio\n"
          ]
        }
      ],
      "source": [
        "if favorite_songs:\n",
        "    last_genre = list(favorite_songs.values())[-1]['genre']\n",
        "\n",
        "    first_song_of_last_genre = next((song for song, details in favorite_songs.items() if details['genre'] == last_genre), None)\n",
        "\n",
        "    if first_song_of_last_genre:\n",
        "        print(f\"The first song of the last genre ({last_genre}) is: {first_song_of_last_genre}\")\n",
        "    else:\n",
        "        print(f\"No songs found in the last genre.\")\n",
        "else:\n",
        "    print(\"The dictionary is empty.\")\n"
      ]
    }
  ],
  "metadata": {
    "kernelspec": {
      "display_name": "Python 3",
      "language": "python",
      "name": "python3"
    },
    "language_info": {
      "codemirror_mode": {
        "name": "ipython",
        "version": 3
      },
      "file_extension": ".py",
      "mimetype": "text/x-python",
      "name": "python",
      "nbconvert_exporter": "python",
      "pygments_lexer": "ipython3",
      "version": "3.11.4"
    },
    "orig_nbformat": 4,
    "colab": {
      "provenance": []
    }
  },
  "nbformat": 4,
  "nbformat_minor": 0
}