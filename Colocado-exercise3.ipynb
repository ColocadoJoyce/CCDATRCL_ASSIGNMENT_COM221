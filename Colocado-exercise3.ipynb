{
 "cells": [
  {
   "cell_type": "markdown",
   "metadata": {
    "id": "wKMnxapXJtDO"
   },
   "source": [
    "# Exercise 3"
   ]
  },
  {
   "cell_type": "markdown",
   "metadata": {
    "id": "i7ETUJHmJtDQ"
   },
   "source": [
    "#### Pre-defined classes"
   ]
  },
  {
   "cell_type": "markdown",
   "metadata": {
    "id": "hyXBqeQhJtDQ"
   },
   "source": [
    "Pre-defined Queue class"
   ]
  },
  {
   "cell_type": "code",
   "execution_count": 12,
   "metadata": {
    "id": "2suM7uQ8JtDR",
    "ExecuteTime": {
     "end_time": "2023-09-28T23:47:33.207322100Z",
     "start_time": "2023-09-28T23:47:33.148932500Z"
    }
   },
   "outputs": [],
   "source": [
    "class Queue:\n",
    "    def __init__(self):\n",
    "        self.queue = []\n",
    "\n",
    "    # Add an element\n",
    "    def enqueue(self, item):\n",
    "        self.queue.append(item)\n",
    "\n",
    "    # Remove an element\n",
    "    def dequeue(self):\n",
    "        if len(self.queue) < 1:\n",
    "            return None\n",
    "        return self.queue.pop(0)\n",
    "\n",
    "    # Display  the queue\n",
    "    def display(self):\n",
    "        print(self.queue)\n",
    "\n",
    "    def size(self):\n",
    "        return len(self.queue)\n",
    "\n",
    "    def peek(self):\n",
    "        return self.queue[0]\n"
   ]
  },
  {
   "cell_type": "markdown",
   "metadata": {
    "id": "UGrshkZbJtDS"
   },
   "source": [
    "Pre-defined Deque class"
   ]
  },
  {
   "cell_type": "code",
   "execution_count": 23,
   "metadata": {
    "id": "ZB6bTcodJtDS",
    "ExecuteTime": {
     "end_time": "2023-09-29T00:24:02.688481100Z",
     "start_time": "2023-09-29T00:24:02.654420900Z"
    }
   },
   "outputs": [],
   "source": [
    "class Deque:\n",
    "    def __init__(self):\n",
    "        self.items = []\n",
    "\n",
    "    def isEmpty(self):\n",
    "        return self.items == []\n",
    "\n",
    "    def addRear(self, item):\n",
    "        self.items.append(item)\n",
    "\n",
    "    def addFront(self, item):\n",
    "        self.items.insert(0, item)\n",
    "\n",
    "    def removeFront(self):\n",
    "        return self.items.pop(0)\n",
    "\n",
    "    def removeRear(self):\n",
    "        return self.items.pop()\n",
    "\n",
    "    def size(self):\n",
    "        return len(self.items)\n",
    "\n",
    "    def display(self):\n",
    "        print(self.items)"
   ]
  },
  {
   "cell_type": "markdown",
   "metadata": {
    "id": "ZS_cEqDHJtDS"
   },
   "source": [
    "Pre-defined Circular Queue class"
   ]
  },
  {
   "cell_type": "code",
   "execution_count": 14,
   "metadata": {
    "id": "MOolbh9BJtDS",
    "ExecuteTime": {
     "end_time": "2023-09-28T23:47:33.267077400Z",
     "start_time": "2023-09-28T23:47:33.180100600Z"
    }
   },
   "outputs": [],
   "source": [
    "class CircularQueue():\n",
    "\n",
    "    def __init__(self, k):\n",
    "        self.k = k\n",
    "        self.queue = [None] * k\n",
    "        self.head = self.tail = -1\n",
    "\n",
    "    # Insert an element into the circular queue\n",
    "    def enqueue(self, data):\n",
    "\n",
    "        if ((self.tail + 1) % self.k == self.head):\n",
    "            print(\"The circular queue is full\\n\")\n",
    "\n",
    "        elif (self.head == -1):\n",
    "            self.head = 0\n",
    "            self.tail = 0\n",
    "            self.queue[self.tail] = data\n",
    "        else:\n",
    "            self.tail = (self.tail + 1) % self.k\n",
    "            self.queue[self.tail] = data\n",
    "\n",
    "    # Delete an element from the circular queue\n",
    "    def dequeue(self):\n",
    "        if (self.head == -1):\n",
    "            print(\"The circular queue is empty\\n\")\n",
    "\n",
    "        elif (self.head == self.tail):\n",
    "            temp = self.queue[self.head]\n",
    "            self.head = -1\n",
    "            self.tail = -1\n",
    "            return temp\n",
    "        else:\n",
    "            temp = self.queue[self.head]\n",
    "            self.head = (self.head + 1) % self.k\n",
    "            return temp\n",
    "\n",
    "    def printCQueue(self):\n",
    "        if (self.head == -1):\n",
    "            print(\"No element in the circular queue\")\n",
    "\n",
    "        elif (self.tail >= self.head):\n",
    "            for i in range(self.head, self.tail + 1):\n",
    "                print(self.queue[i], end=\" \")\n",
    "            print()\n",
    "        else:\n",
    "            for i in range(self.head, self.k):\n",
    "                print(self.queue[i], end=\" \")\n",
    "            for i in range(0, self.tail + 1):\n",
    "                print(self.queue[i], end=\" \")\n",
    "            print()\n"
   ]
  },
  {
   "cell_type": "markdown",
   "metadata": {
    "id": "LFf9C5edJtDT"
   },
   "source": [
    "Pre-defined Priority Queue Class"
   ]
  },
  {
   "cell_type": "code",
   "execution_count": 15,
   "metadata": {
    "id": "oTCyt0vmJtDT",
    "ExecuteTime": {
     "end_time": "2023-09-28T23:47:33.269250700Z",
     "start_time": "2023-09-28T23:47:33.194240900Z"
    }
   },
   "outputs": [],
   "source": [
    "class PriorityQueueNode:\n",
    "    def __init__(self, value, pr):\n",
    "        self.data = value\n",
    "        self.priority = pr\n",
    "        self.next = None"
   ]
  },
  {
   "cell_type": "code",
   "execution_count": 16,
   "metadata": {
    "id": "6XK8wbnqJtDT",
    "ExecuteTime": {
     "end_time": "2023-09-28T23:47:33.270250500Z",
     "start_time": "2023-09-28T23:47:33.210469600Z"
    }
   },
   "outputs": [],
   "source": [
    "class PriorityQueue:\n",
    "\n",
    "    def __init__(self):\n",
    "\n",
    "        self.front = None\n",
    "\n",
    "    # Method to check Priority Queue is Empty\n",
    "    # or not if Empty then it will return True\n",
    "    # Otherwise False\n",
    "    def isEmpty(self):\n",
    "\n",
    "        return True if self.front == None else False\n",
    "\n",
    "    # Method to add items in Priority Queue\n",
    "    # According to their priority value\n",
    "    def push(self, value, priority):\n",
    "\n",
    "        # Condition check for checking Priority\n",
    "        # Queue is empty or not\n",
    "        if self.isEmpty() == True:\n",
    "\n",
    "            # Creating a new node and assigning\n",
    "            # it to class variable\n",
    "            self.front = PriorityQueueNode(value, priority)\n",
    "\n",
    "            # Returning 1 for successful execution\n",
    "            return 1\n",
    "\n",
    "        else:\n",
    "\n",
    "            # Special condition check to see that\n",
    "            # first node priority value\n",
    "            if self.front.priority > priority:\n",
    "                # Creating a new node\n",
    "                newNode = PriorityQueueNode(value, priority)\n",
    "                # Updating the new node next value\n",
    "                newNode.next = self.front\n",
    "\n",
    "                # Assigning it to self.front\n",
    "                self.front = newNode\n",
    "\n",
    "                # Returning 1 for successful execution\n",
    "                return 1\n",
    "\n",
    "            else:\n",
    "\n",
    "                # Traversing through Queue until it\n",
    "                # finds the next smaller priority node\n",
    "                temp = self.front\n",
    "\n",
    "                while temp.next:\n",
    "                    # If same priority node found then current\n",
    "                    # node will come after previous node\n",
    "                    if priority <= temp.next.priority:\n",
    "                        break\n",
    "\n",
    "                    temp = temp.next\n",
    "\n",
    "                newNode = PriorityQueueNode(value, priority)\n",
    "                newNode.next = temp.next\n",
    "                temp.next = newNode\n",
    "\n",
    "                # Returning 1 for successful execution\n",
    "                return 1\n",
    "\n",
    "    # Method to remove high priority item\n",
    "    # from the Priority Queue\n",
    "    def pop(self):\n",
    "\n",
    "        # Condition check for checking\n",
    "        # Priority Queue is empty or not\n",
    "        if self.isEmpty() == True:\n",
    "            return\n",
    "        else:\n",
    "            # Removing high priority node from\n",
    "            # Priority Queue, and updating front\n",
    "            # with next node\n",
    "            self.front = self.front.next\n",
    "            return 1\n",
    "\n",
    "    # Method to return high priority node\n",
    "    # value Not removing it\n",
    "    def peek(self):\n",
    "        # Condition check for checking Priority\n",
    "        # Queue is empty or not\n",
    "        if self.isEmpty() == True:\n",
    "            return\n",
    "        else:\n",
    "            return self.front.data\n",
    "\n",
    "    # Method to Traverse through Priority\n",
    "    # Queue\n",
    "    def traverse(self):\n",
    "        # Condition check for checking Priority\n",
    "        # Queue is empty or not\n",
    "        if self.isEmpty() == True:\n",
    "            return \"Queue is Empty!\"\n",
    "        else:\n",
    "            temp = self.front\n",
    "            while temp:\n",
    "                print(temp.data, end=\" \")\n",
    "                temp = temp.next\n"
   ]
  },
  {
   "cell_type": "markdown",
   "source": [
    "#### 1. Create a Queue\n",
    "\n",
    "- Each element should contain your name and your other classmates\n",
    "- There should be at least 5 elements in the queue\n",
    "- Put yourself at the end of the queue\n",
    "- Print all elements in the queue"
   ],
   "metadata": {
    "collapsed": false
   }
  },
  {
   "cell_type": "code",
   "execution_count": 17,
   "metadata": {
    "id": "cwDMt4lFJtDU",
    "ExecuteTime": {
     "end_time": "2023-09-28T23:47:33.270250500Z",
     "start_time": "2023-09-28T23:47:33.223306200Z"
    }
   },
   "outputs": [],
   "source": [
    "queue = Queue()\n",
    "\n",
    "queue.enqueue(\"Diana\")\n",
    "queue.enqueue(\"Ara\")\n",
    "queue.enqueue(\"Brix\")\n",
    "queue.enqueue(\"Earl\")\n",
    "queue.enqueue(\"Joyce\")\n",
    "\n",
    "queue.display()"
   ]
  },
  {
   "cell_type": "markdown",
   "metadata": {
    "id": "-sMTb4vNJtDU"
   },
   "source": [
    "#### 2. Create a Deque\n",
    "\n",
    "Given the queue below,\n",
    "\n",
    "**Queue:**\n",
    "\n",
    "| Cat | Dog | Rabbit | Bird | Hamster\n",
    "| --- | --- | --- | --- | --- |\n",
    "\n",
    "**dequeue** each element and insert them into a **Deque** in the following order below:\n",
    "\n",
    "**Deque:**\n",
    "\n",
    "| Hamster | Bird | Rabbit | Dog | Cat\n",
    "| --- | --- | --- | --- | --- |\n",
    "\n",
    "**Expected output:**\n",
    "\n",
    "['Hamster','Bird', 'Rabbit', 'Dog', 'Cat']"
   ]
  },
  {
   "cell_type": "code",
   "execution_count": 24,
   "metadata": {
    "id": "81M3M6m3JtDU",
    "ExecuteTime": {
     "end_time": "2023-09-29T00:24:41.674027400Z",
     "start_time": "2023-09-29T00:24:41.643650100Z"
    }
   },
   "outputs": [
    {
     "name": "stdout",
     "output_type": "stream",
     "text": [
      "['Hamster', 'Bird', 'Rabbit', 'Dog', 'Cat']\n"
     ]
    }
   ],
   "source": [
    "queue = Queue()\n",
    "queue.enqueue(\"Cat\")\n",
    "queue.enqueue(\"Dog\")\n",
    "queue.enqueue(\"Rabbit\")\n",
    "queue.enqueue(\"Bird\")\n",
    "queue.enqueue(\"Hamster\")\n",
    "\n",
    "deque = Deque()\n",
    "deque.addFront(queue.dequeue())\n",
    "deque.addFront(queue.dequeue())\n",
    "deque.addFront(queue.dequeue())\n",
    "deque.addFront(queue.dequeue())\n",
    "deque.addFront(queue.dequeue())\n",
    "\n",
    "deque.display()"
   ]
  },
  {
   "cell_type": "markdown",
   "metadata": {
    "id": "ye8gZU7FJtDU"
   },
   "source": [
    "#### 3. Create a Circular Queue\n",
    "\n",
    "Given the queue below,\n",
    "\n",
    "**Queue:**\n",
    "\n",
    "| I | II | III | IV | V | VI | VII | VIII | IX | X | XI | XII |\n",
    "|---|----|-----|----|---|----|-----|------|----|---|----|-----|\n",
    "\n",
    "**dequeue** each element and insert them into a **Circular Deque** in the following order below:\n",
    "\n",
    "**Circular Queue:**\n",
    "\n",
    "<img src=\"clock.jpg\"/>\n",
    "\n",
    "**Expected output:**\n",
    "\n",
    "I II III IV V VI VII VIII IX X XI XII"
   ]
  },
  {
   "cell_type": "code",
   "execution_count": 25,
   "metadata": {
    "id": "CH6rjMDcJtDV",
    "ExecuteTime": {
     "end_time": "2023-09-29T00:26:51.171379200Z",
     "start_time": "2023-09-29T00:26:51.143640700Z"
    }
   },
   "outputs": [
    {
     "name": "stdout",
     "output_type": "stream",
     "text": [
      "I II III IV V VI VII VIII IX X XI XII \n"
     ]
    }
   ],
   "source": [
    "queue = Queue()\n",
    "queue.enqueue(\"I\")\n",
    "queue.enqueue(\"II\")\n",
    "queue.enqueue(\"III\")\n",
    "queue.enqueue(\"IV\")\n",
    "queue.enqueue(\"V\")\n",
    "queue.enqueue(\"VI\")\n",
    "queue.enqueue(\"VII\")\n",
    "queue.enqueue(\"VIII\")\n",
    "queue.enqueue(\"IX\")\n",
    "queue.enqueue(\"X\")\n",
    "queue.enqueue(\"XI\")\n",
    "queue.enqueue(\"XII\")\n",
    "\n",
    "circularQueue = CircularQueue(12)\n",
    "for i in range(12):\n",
    "    circularQueue.enqueue(queue.dequeue())\n",
    "\n",
    "circularQueue.printCQueue()\n",
    "\n"
   ]
  },
  {
   "cell_type": "markdown",
   "metadata": {
    "id": "an-ePYtQJtDW"
   },
   "source": [
    "#### 4. Create a Priority Queue\n",
    "\n",
    "Given the queue below,\n",
    "\n",
    "**Queue:**\n",
    "\n",
    "| Cat | Dog | Rabbit | Bird | Hamster |\n",
    "|-----|-----|--------|------|---------|\n",
    "\n",
    "\n",
    "**dequeue** each element and insert them into a **Priority Queue** with the following priority values\n",
    "\n",
    "**Priority Queue:**\n",
    "\n",
    "| Element | Priority |\n",
    "|---------|----------|\n",
    "| Hamster | 0        |\n",
    "| Bird    | 1        |\n",
    "| Rabbit  | 2        |\n",
    "| Dog     | 3        |\n",
    "| Cat     | 4        |\n",
    "\n",
    "**Expected output:**\n",
    "\n",
    "Hamster Bird Rabbit Dog Cat"
   ]
  },
  {
   "cell_type": "code",
   "execution_count": 26,
   "metadata": {
    "id": "3EgkfEn5JtDW",
    "ExecuteTime": {
     "end_time": "2023-09-29T00:33:16.701665300Z",
     "start_time": "2023-09-29T00:33:16.673115900Z"
    }
   },
   "outputs": [
    {
     "name": "stdout",
     "output_type": "stream",
     "text": [
      "Hamster Bird Rabbit Dog Cat "
     ]
    }
   ],
   "source": [
    "queue = Queue()\n",
    "queue.enqueue(\"Cat\")\n",
    "queue.enqueue(\"Dog\")\n",
    "queue.enqueue(\"Rabbit\")\n",
    "queue.enqueue(\"Bird\")\n",
    "queue.enqueue(\"Hamster\")\n",
    "\n",
    "sortedCircularQueue = PriorityQueue()\n",
    "sortedCircularQueue.push(queue.dequeue(), 4)\n",
    "sortedCircularQueue.push(queue.dequeue(), 3)\n",
    "sortedCircularQueue.push(queue.dequeue(), 2)\n",
    "sortedCircularQueue.push(queue.dequeue(), 1)\n",
    "sortedCircularQueue.push(queue.dequeue(), 0)\n",
    "\n",
    "sortedCircularQueue.traverse()"
   ]
  },
  {
   "cell_type": "markdown",
   "metadata": {
    "id": "VlvE6f-QJtDW"
   },
   "source": [
    "#### 5. Create a Sorted Circular Queue\n",
    "\n",
    "Given the queue below,\n",
    "\n",
    "**Queue:**\n",
    "\n",
    "| 1 | 5 | 3 | 2 | 7 | 8 | 10 | 11 | 6 | 4 | 12 | 9 |\n",
    "|---|---|---|---|---|---|----|----|---|---|----|---|\n",
    "\n",
    "\n",
    "**dequeue** each element and insert them into a **Circular Queue** in the following order below:\n",
    "\n",
    "**Circular Queue:**\n",
    "\n",
    "<img src=\"clock1.png\"/>\n",
    "\n",
    "**Expected output:**\n",
    "\n",
    "1 2 3 4 5 6 7 8 9 10 11 12"
   ]
  },
  {
   "cell_type": "code",
   "execution_count": 31,
   "metadata": {
    "id": "ltBHvnfZJtDX",
    "ExecuteTime": {
     "end_time": "2023-09-29T00:54:18.929514300Z",
     "start_time": "2023-09-29T00:54:18.898809100Z"
    }
   },
   "outputs": [
    {
     "name": "stdout",
     "output_type": "stream",
     "text": [
      "1 2 3 4 5 6 7 8 9 10 11 12 "
     ]
    }
   ],
   "source": [
    "class SortedCircularQueue(PriorityQueue):\n",
    "\n",
    "    def push(self, value):\n",
    "        super().push(value, value)\n",
    "\n",
    "\n",
    "queue = Queue()\n",
    "queue.enqueue(1)\n",
    "queue.enqueue(5)\n",
    "queue.enqueue(3)\n",
    "queue.enqueue(2)\n",
    "queue.enqueue(7)\n",
    "queue.enqueue(8)\n",
    "queue.enqueue(10)\n",
    "queue.enqueue(11)\n",
    "queue.enqueue(6)\n",
    "queue.enqueue(4)\n",
    "queue.enqueue(12)\n",
    "queue.enqueue(9)\n",
    "\n",
    "sortedCircularQueue = SortedCircularQueue()\n",
    "for i in range(12):\n",
    "    sortedCircularQueue.push(queue.dequeue())\n",
    "\n",
    "sortedCircularQueue.traverse()\n"
   ]
  },
  {
   "cell_type": "code",
   "execution_count": null,
   "outputs": [],
   "source": [],
   "metadata": {
    "collapsed": false
   }
  }
 ],
 "metadata": {
  "kernelspec": {
   "display_name": "Python 3",
   "language": "python",
   "name": "python3"
  },
  "language_info": {
   "codemirror_mode": {
    "name": "ipython",
    "version": 3
   },
   "file_extension": ".py",
   "mimetype": "text/x-python",
   "name": "python",
   "nbconvert_exporter": "python",
   "pygments_lexer": "ipython3",
   "version": "3.9.13"
  },
  "orig_nbformat": 4,
  "colab": {
   "provenance": []
  }
 },
 "nbformat": 4,
 "nbformat_minor": 0
}
