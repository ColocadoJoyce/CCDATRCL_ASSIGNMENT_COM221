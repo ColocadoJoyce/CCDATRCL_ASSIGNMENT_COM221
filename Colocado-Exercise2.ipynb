{
  "cells": [
    {
      "cell_type": "markdown",
      "metadata": {
        "id": "QNWAYtOH8JJM"
      },
      "source": [
        "# Exercise 2"
      ]
    },
    {
      "cell_type": "markdown",
      "metadata": {
        "id": "WqS_i0U78JJQ"
      },
      "source": [
        "#### Pre-defined stack functions"
      ]
    },
    {
      "cell_type": "code",
      "execution_count": 28,
      "metadata": {
        "id": "Q55AdD2y8JJR"
      },
      "outputs": [],
      "source": [
        "# Creating a stack\n",
        "def create_stack():\n",
        "    stack = []\n",
        "    return stack\n",
        "\n",
        "def print_stack(stack):\n",
        "\n",
        "    if (check_empty(stack)):\n",
        "            return \"stack is empty\"\n",
        "\n",
        "    # Create a copy of the stack and reverse the elements\n",
        "    tempStack = stack.copy()\n",
        "    tempStack.reverse()\n",
        "\n",
        "    # Print all elements using a loop\n",
        "    for i in tempStack:\n",
        "        print(i)\n",
        "\n",
        "    # Delete the copy to free up memory\n",
        "    del tempStack\n",
        "\n",
        "# Creating an empty stack\n",
        "def check_empty(stack):\n",
        "    return len(stack) == 0\n",
        "\n",
        "\n",
        "# Adding items into the stack\n",
        "def push(stack, item):\n",
        "    stack.append(item)\n",
        "    print(\"pushed item: \", item)\n",
        "\n",
        "\n",
        "# Removing an element from the stack\n",
        "def pop(stack):\n",
        "    if (check_empty(stack)):\n",
        "        return \"stack is empty\"\n",
        "\n",
        "    return stack.pop()\n",
        "\n",
        "def peek(stack):\n",
        "    # Use negative indexing to display the last element of the list\n",
        "    print(stack[-1])\n",
        "    return stack[-1]\n"
      ]
    },
    {
      "cell_type": "markdown",
      "metadata": {
        "id": "z5FA3bY38JJT"
      },
      "source": [
        "#### 1. Create a burger stack.  \n",
        "\n",
        "The output of the stack should be in this order:\n",
        "\n",
        "- Bun\n",
        "\n",
        "- Tomato\n",
        "\n",
        "- Lettuce\n",
        "\n",
        "- Cheese\n",
        "\n",
        "- Patty\n",
        "\n",
        "- Bun"
      ]
    },
    {
      "cell_type": "code",
      "execution_count": 23,
      "metadata": {
        "id": "n6yPehQq8JJU"
      },
      "outputs": [
        {
          "name": "stdout",
          "output_type": "stream",
          "text": [
            "pushed item:  Bun\n",
            "pushed item:  Patty\n",
            "pushed item:  Cheese\n",
            "pushed item:  Lettuce\n",
            "pushed item:  Tomato\n",
            "pushed item:  Bun\n",
            "Bun, Tomato, Lettuce, Cheese, Patty, Bun, "
          ]
        }
      ],
      "source": [
        "stack = create_stack()\n",
        "\n",
        "push(stack, \"Bun\")\n",
        "push(stack, \"Patty\")\n",
        "push(stack, \"Cheese\")\n",
        "push(stack, \"Lettuce\")\n",
        "push(stack, \"Tomato\")\n",
        "push(stack, \"Bun\")\n",
        "\n",
        "print_stack(stack)"
      ]
    },
    {
      "cell_type": "markdown",
      "metadata": {
        "id": "W4XvryDA8JJU"
      },
      "source": [
        "#### 2. Reverse a string using a stack\n",
        "\n",
        "Given two stacks:\n",
        "\n",
        "**name_stack = ['E', 'L', 'I', 'Z', 'E', 'R']**\n",
        "\n",
        "**reversed_stack = []**\n",
        "\n",
        "Use your **firstname** and pop each letter from the **name_stack** and push each element into the **reversed_stack**\n",
        "\n",
        "-----------------\n",
        "**Expected output:**\n",
        "\n",
        "print(reversed_stack)\n",
        "\n",
        "['R', 'E', 'Z', 'I', 'L', 'E']"
      ]
    },
    {
      "cell_type": "code",
      "execution_count": 29,
      "metadata": {
        "id": "BuPMzC-g8JJV"
      },
      "outputs": [
        {
          "name": "stdout",
          "output_type": "stream",
          "text": [
            "pushed item:  J\n",
            "pushed item:  O\n",
            "pushed item:  Y\n",
            "pushed item:  C\n",
            "pushed item:  E\n",
            "name_stack =  ['J', 'O', 'Y', 'C', 'E']\n",
            "E\n",
            "C\n",
            "Y\n",
            "O\n",
            "J\n",
            "pushed item:  E\n",
            "pushed item:  C\n",
            "pushed item:  Y\n",
            "pushed item:  O\n",
            "pushed item:  J\n",
            "reversed_stack =  ['E', 'C', 'Y', 'O', 'J']\n"
          ]
        }
      ],
      "source": [
        "name_stack = create_stack()\n",
        "push(name_stack, \"J\")\n",
        "push(name_stack, \"O\")\n",
        "push(name_stack, \"Y\")\n",
        "push(name_stack, \"C\")\n",
        "push(name_stack, \"E\")\n",
        "\n",
        "print(\"name_stack = \", name_stack)\n",
        "\n",
        "reversed_stack = create_stack()\n",
        "while not check_empty(name_stack):\n",
        "    push(reversed_stack, pop(name_stack))\n",
        "\n",
        "print(\"reversed_stack = \", reversed_stack)"
      ]
    },
    {
      "cell_type": "markdown",
      "metadata": {
        "id": "coRKfCPZ8JJV"
      },
      "source": [
        "#### 3. Remove elements using a stack\n",
        "\n",
        "Given this stack:\n",
        "\n",
        "numbers = [1,2,3,4,5,6,7,8,9,10]\n",
        "\n",
        "new_stack = []\n",
        "\n",
        "Using the **pop()** function, push elements in the **new_stack** if they are an **even number**\n",
        "\n",
        "-----------------\n",
        "\n",
        "**Expected output:**\n",
        "\n",
        "print(new_stack)\n",
        "\n",
        "[2,4,6,8,10]"
      ]
    },
    {
      "cell_type": "code",
      "execution_count": 40,
      "metadata": {
        "id": "zTXYampp8JJV"
      },
      "outputs": [
        {
          "name": "stdout",
          "output_type": "stream",
          "text": [
            "pushed item:  1\n",
            "pushed item:  2\n",
            "pushed item:  3\n",
            "pushed item:  4\n",
            "pushed item:  5\n",
            "pushed item:  6\n",
            "pushed item:  7\n",
            "pushed item:  8\n",
            "pushed item:  9\n",
            "pushed item:  10\n",
            "numbers =  [1, 2, 3, 4, 5, 6, 7, 8, 9, 10]\n",
            "pushed item:  10\n",
            "pushed item:  8\n",
            "pushed item:  6\n",
            "pushed item:  4\n",
            "pushed item:  2\n",
            "\n",
            "Result: \n",
            "[10, 8, 6, 4, 2]\n",
            "\n",
            "Stack in order: \n",
            "2\n",
            "4\n",
            "6\n",
            "8\n",
            "10\n"
          ]
        }
      ],
      "source": [
        "numbers = create_stack()\n",
        "push(numbers, 1)\n",
        "push(numbers, 2)\n",
        "push(numbers, 3)\n",
        "push(numbers, 4)\n",
        "push(numbers, 5)\n",
        "push(numbers, 6)\n",
        "push(numbers, 7)\n",
        "push(numbers, 8)\n",
        "push(numbers, 9)\n",
        "push(numbers, 10)\n",
        "\n",
        "print(\"numbers = \", numbers)\n",
        "\n",
        "new_stack = create_stack()\n",
        "while not check_empty(numbers):\n",
        "    popped = pop(numbers)\n",
        "    if  popped % 2 == 0:\n",
        "        push(new_stack, popped)\n",
        "\n",
        "# Correction: This will show [10, 8, 6, 4, 2] because 10 is at the top of the stack and appears first when popped\n",
        "print(\"\\nResult: \")\n",
        "print(new_stack)\n",
        "\n",
        "# This will show the correct expected order\n",
        "print(\"\\nStack in order: \")\n",
        "print_stack(new_stack)"
      ]
    },
    {
      "cell_type": "markdown",
      "metadata": {
        "id": "1s4LGmuT8JJW"
      },
      "source": [
        "#### 4. Inserting elements into a stack\n",
        "\n",
        "Given two stacks:\n",
        "\n",
        "my_stack = ['E', 'L', 'I', 'Z', 'E', 'R', 'P', 'O', 'N', 'I', 'O', 'J', 'R']\n",
        "\n",
        "empty_stack = []\n",
        "\n",
        "Use **pop()** to get each element from  **my_stack** and use **push()** to insert the element to **empty_stack** only if:\n",
        "\n",
        "1. The element is a **vowel**\n",
        "2. The element does not exist in **empty_stack**\n",
        "\n",
        "----------------------\n",
        "\n",
        "**Expected output:**\n",
        "\n",
        "print_stack(empty_stack)\n",
        "\n",
        "['E', 'I', 'O']"
      ]
    },
    {
      "cell_type": "code",
      "execution_count": 35,
      "metadata": {
        "id": "cGXh7yd18JJW"
      },
      "outputs": [
        {
          "name": "stdout",
          "output_type": "stream",
          "text": [
            "pushed item:  J\n",
            "pushed item:  O\n",
            "pushed item:  Y\n",
            "pushed item:  C\n",
            "pushed item:  E\n",
            "pushed item:  C\n",
            "pushed item:  O\n",
            "pushed item:  L\n",
            "pushed item:  O\n",
            "pushed item:  C\n",
            "pushed item:  A\n",
            "pushed item:  D\n",
            "pushed item:  O\n",
            "pushed item:  O\n",
            "pushed item:  A\n",
            "pushed item:  E\n",
            "empty_stack =  ['O', 'A', 'E']\n",
            "E\n",
            "A\n",
            "O\n"
          ]
        }
      ],
      "source": [
        "vowels = ['A', 'E', 'I', 'O', 'U']\n",
        "\n",
        "my_stack = create_stack()\n",
        "push(my_stack, 'J')\n",
        "push(my_stack, 'O')\n",
        "push(my_stack, 'Y')\n",
        "push(my_stack, 'C')\n",
        "push(my_stack, 'E')\n",
        "push(my_stack, 'C')\n",
        "push(my_stack, 'O')\n",
        "push(my_stack, 'L')\n",
        "push(my_stack, 'O')\n",
        "push(my_stack, 'C')\n",
        "push(my_stack, 'A')\n",
        "push(my_stack, 'D')\n",
        "push(my_stack, 'O')\n",
        "\n",
        "empty_stack = create_stack()\n",
        "\n",
        "while not check_empty(my_stack):\n",
        "    popped = pop(my_stack)\n",
        "    if popped in vowels and popped not in empty_stack:\n",
        "        push(empty_stack, popped)\n",
        "\n",
        "# Correction: This will show [10, 8, 6, 4, 2] because 10 is at the top of the stack and appears first when popped\n",
        "print(\"\\nResult: \")\n",
        "print(empty_stack)\n",
        "\n",
        "# This will show the correct expected order\n",
        "print(\"\\nStack in order: \")\n",
        "print_stack(empty_stack)\n",
        "\n"
      ]
    },
    {
      "cell_type": "markdown",
      "metadata": {
        "id": "cwtpya5m8JJX"
      },
      "source": [
        "#### 5. Sort elements in a stack\n",
        "\n",
        "Given two stacks:\n",
        "\n",
        "number_stack = [3,1,2]\n",
        "\n",
        "sorted_stack = []\n",
        "\n",
        "Create a **sort()** function to pop each element from the **number_stack** and push each element into the **sorted_stack**. The elements in **sorted_stack** must be in ascending order.\n",
        "\n",
        "----------------\n",
        "\n",
        "**Hint:**\n",
        "\n",
        "| iteration | number_stack | sorted_stack |\n",
        "| --- | --- | --- |\n",
        "| 1 | [3, 1, 2] | [] |\n",
        "| 2 | [3, 1] | [2] |\n",
        "| 3 | [3, 2] | [1] |\n",
        "| 4 | [3] | [1, 2] |\n",
        "| 5 | [] | [1, 2, 3] |\n",
        "\n",
        "**Expected output:**\n",
        "\n",
        "print(sorted_stack)\n",
        "\n",
        "[1, 2, 3]"
      ]
    },
    {
      "cell_type": "code",
      "execution_count": 43,
      "metadata": {
        "id": "XrLee2zo8JJX"
      },
      "outputs": [
        {
          "name": "stdout",
          "output_type": "stream",
          "text": [
            "pushed item:  3\n",
            "pushed item:  1\n",
            "pushed item:  2\n",
            "pushed item:  2\n",
            "2\n",
            "pushed item:  2\n",
            "pushed item:  1\n",
            "1\n",
            "pushed item:  2\n",
            "2\n",
            "pushed item:  3\n",
            "\n",
            "Result: \n",
            "[1, 2, 3]\n",
            "\n",
            "Stack in order: \n",
            "3\n",
            "2\n",
            "1\n"
          ]
        }
      ],
      "source": [
        "number_stack = create_stack()\n",
        "push(number_stack, 3)\n",
        "push(number_stack, 1)\n",
        "push(number_stack, 2)\n",
        "\n",
        "sorted_stack = create_stack()\n",
        "\n",
        "def sort(number_stack, sorted_stack):\n",
        "    while not check_empty(number_stack):\n",
        "        current_number = pop(number_stack)\n",
        "\n",
        "        while not check_empty(sorted_stack) and peek(sorted_stack) > current_number:\n",
        "            push(number_stack, pop(sorted_stack))\n",
        "\n",
        "        push(sorted_stack, current_number)\n",
        "\n",
        "sort(number_stack, sorted_stack)\n",
        "\n",
        "print(\"\\nResult: \")\n",
        "print(sorted_stack)\n",
        "\n",
        "print(\"\\nStack in order: \")\n",
        "print_stack(sorted_stack)"
      ]
    }
  ],
  "metadata": {
    "colab": {
      "provenance": []
    },
    "kernelspec": {
      "display_name": "Python 3",
      "language": "python",
      "name": "python3"
    },
    "language_info": {
      "codemirror_mode": {
        "name": "ipython",
        "version": 3
      },
      "file_extension": ".py",
      "mimetype": "text/x-python",
      "name": "python",
      "nbconvert_exporter": "python",
      "pygments_lexer": "ipython3",
      "version": "3.11.4"
    },
    "orig_nbformat": 4
  },
  "nbformat": 4,
  "nbformat_minor": 0
}
