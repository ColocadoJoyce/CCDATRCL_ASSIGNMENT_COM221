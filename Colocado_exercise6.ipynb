{
  "cells": [
    {
      "cell_type": "markdown",
      "metadata": {
        "id": "E_DgaWndLp2E"
      },
      "source": [
        "# Exercise 6"
      ]
    },
    {
      "cell_type": "markdown",
      "metadata": {
        "id": "86lJM4BLLp2H"
      },
      "source": [
        "#### Pre-defined code"
      ]
    },
    {
      "cell_type": "code",
      "execution_count": 2,
      "metadata": {
        "id": "1BoGk_bXLp2H"
      },
      "outputs": [],
      "source": [
        "class Node:\n",
        "    def __init__(self, item):\n",
        "        self.left = None\n",
        "        self.right = None\n",
        "        self.val = item"
      ]
    },
    {
      "cell_type": "code",
      "execution_count": 3,
      "metadata": {
        "id": "eEXOccV0Lp2I"
      },
      "outputs": [],
      "source": [
        "def inorder(root):\n",
        "\n",
        "    if root:\n",
        "        # Traverse left\n",
        "        inorder(root.left)\n",
        "        # Traverse root\n",
        "        print(str(root.val) + \"->\", end='')\n",
        "        # Traverse right\n",
        "        inorder(root.right)\n",
        "\n",
        "def postorder(root):\n",
        "\n",
        "    if root:\n",
        "        # Traverse left\n",
        "        postorder(root.left)\n",
        "        # Traverse right\n",
        "        postorder(root.right)\n",
        "        # Traverse root\n",
        "        print(str(root.val) + \"->\", end='')\n",
        "\n",
        "def preorder(root):\n",
        "\n",
        "    if root:\n",
        "        # Traverse root\n",
        "        print(str(root.val) + \"->\", end='')\n",
        "        # Traverse left\n",
        "        preorder(root.left)\n",
        "        # Traverse right\n",
        "        preorder(root.right)"
      ]
    },
    {
      "cell_type": "markdown",
      "metadata": {
        "id": "0iaTEXCsLp2J"
      },
      "source": [
        "#### 1. Construct Create your own company org chart and put yourself as CEO.\n",
        "\n",
        "Using a Tree data structure,\n",
        "\n",
        "- Assign yourself as CEO\n",
        "\n",
        "- Assign any of your classmate as HR Director\n",
        "- Assign any of your classmate as Sales Director\n",
        "\n",
        "- Assign any of your classmate as trainee. His/her boss is the HR Director\n",
        "- Assign any of your classmate as a staff and trainee. Their boss is the Sales Director\n"
      ]
    },
    {
      "cell_type": "markdown",
      "metadata": {
        "id": "KseTNjEbLp2J"
      },
      "source": [
        "<img src=\"https://thumbs.dreamstime.com/z/cartoon-organization-chart-some-company-93778925.jpg\"/>"
      ]
    },
    {
      "cell_type": "code",
      "execution_count": 6,
      "metadata": {
        "id": "YCSD1Ot-Lp2J",
        "colab": {
          "base_uri": "https://localhost:8080/"
        },
        "outputId": "4ffad3e1-e787-4c86-ef40-55ec27d76218"
      },
      "outputs": [
        {
          "output_type": "stream",
          "name": "stdout",
          "text": [
            "In-Order Traversal:\n",
            "Brix (Trainee)->Ara (HR Director)->Joyce (CEO)->Ian (Staff and Trainee)->Diana (Sales Director)->\n",
            "\n"
          ]
        }
      ],
      "source": [
        "joyce = Node(\"Joyce (CEO)\")\n",
        "ara = Node(\"Ara (HR Director)\")\n",
        "diana = Node(\"Diana (Sales Director)\")\n",
        "brix = Node(\"Brix (Trainee)\")\n",
        "ian = Node(\"Ian (Staff and Trainee)\")\n",
        "\n",
        "joyce.left = ara\n",
        "joyce.right = diana\n",
        "ara.left = brix\n",
        "diana.left = ian\n",
        "\n",
        "\n"
      ]
    },
    {
      "cell_type": "markdown",
      "metadata": {
        "id": "zJX-yFT7Lp2K"
      },
      "source": [
        "#### 2. Traverse the tree in in-order traversal"
      ]
    },
    {
      "cell_type": "code",
      "execution_count": 7,
      "metadata": {
        "id": "MfWr4hPALp2K",
        "colab": {
          "base_uri": "https://localhost:8080/"
        },
        "outputId": "b3745b5c-438e-4050-f50d-c88b28ef316f"
      },
      "outputs": [
        {
          "output_type": "stream",
          "name": "stdout",
          "text": [
            "In-Order Traversal:\n",
            "Brix (Trainee)->Ara (HR Director)->Joyce (CEO)->Ian (Staff and Trainee)->Diana (Sales Director)->\n",
            "\n"
          ]
        }
      ],
      "source": [
        "print(\"In-Order Traversal:\")\n",
        "inorder(joyce)\n",
        "print(\"\\n\")"
      ]
    },
    {
      "cell_type": "markdown",
      "metadata": {
        "id": "KR_qPFB7Lp2K"
      },
      "source": [
        "#### 3. Traverse the tree in pre-order traversal"
      ]
    },
    {
      "cell_type": "code",
      "execution_count": 8,
      "metadata": {
        "id": "nrtUlpTGLp2K",
        "colab": {
          "base_uri": "https://localhost:8080/"
        },
        "outputId": "71bdca52-8e1d-4191-8bb0-59f08545cc5d"
      },
      "outputs": [
        {
          "output_type": "stream",
          "name": "stdout",
          "text": [
            "Pre-Order Traversal:\n",
            "Joyce (CEO)->Ara (HR Director)->Brix (Trainee)->Diana (Sales Director)->Ian (Staff and Trainee)->"
          ]
        }
      ],
      "source": [
        "print(\"Pre-Order Traversal:\")\n",
        "preorder(joyce)\n"
      ]
    },
    {
      "cell_type": "markdown",
      "metadata": {
        "id": "0e2VBLyjLp2L"
      },
      "source": [
        "#### 4. Traverse the tree in post-order traversal"
      ]
    },
    {
      "cell_type": "code",
      "execution_count": 9,
      "metadata": {
        "id": "DRJURLe3Lp2L",
        "colab": {
          "base_uri": "https://localhost:8080/"
        },
        "outputId": "a026828b-9664-49f0-aac4-9a4b6e399456"
      },
      "outputs": [
        {
          "output_type": "stream",
          "name": "stdout",
          "text": [
            "Post-Order Traversal:\n",
            "Brix (Trainee)->Ara (HR Director)->Ian (Staff and Trainee)->Diana (Sales Director)->Joyce (CEO)->\n",
            "\n"
          ]
        }
      ],
      "source": [
        "print(\"Post-Order Traversal:\")\n",
        "postorder(joyce)\n",
        "print(\"\\n\")"
      ]
    }
  ],
  "metadata": {
    "kernelspec": {
      "display_name": "Python 3",
      "language": "python",
      "name": "python3"
    },
    "language_info": {
      "codemirror_mode": {
        "name": "ipython",
        "version": 3
      },
      "file_extension": ".py",
      "mimetype": "text/x-python",
      "name": "python",
      "nbconvert_exporter": "python",
      "pygments_lexer": "ipython3",
      "version": "3.11.4"
    },
    "orig_nbformat": 4,
    "colab": {
      "provenance": []
    }
  },
  "nbformat": 4,
  "nbformat_minor": 0
}